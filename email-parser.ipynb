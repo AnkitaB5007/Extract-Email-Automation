{
 "cells": [
  {
   "cell_type": "code",
   "execution_count": null,
   "id": "599cc961-0300-4388-b188-171f0746dbb1",
   "metadata": {},
   "outputs": [],
   "source": [
    "import imaplib\n",
    "import email\n",
    "from email.header import decode_header\n",
    "import webbrowser\n",
    "import os\n",
    "import logging\n",
    "import yaml\n",
    "import time\n",
    "from email.policy import default as default_policy"
   ]
  },
  {
   "cell_type": "code",
   "execution_count": null,
   "id": "6fd9abef-c39b-4252-a4ef-d44b67a7c771",
   "metadata": {},
   "outputs": [],
   "source": [
    "# # account credentials\n",
    "# username = \"youremailaddress@provider.com\"\n",
    "# password = \"yourpassword\"\n",
    "\n",
    "# # imap_server = \"outlook.office365.com\"\n",
    "# imap_server = \"imap.gmail.com\"\n",
    "\n",
    "def clean(text):\n",
    "    # clean text for creating a folder\n",
    "    return \"\".join(c if c.isalnum() else \"_\" for c in text)"
   ]
  },
  {
   "cell_type": "markdown",
   "id": "0aa383b3-9faf-4a80-b6ad-5233a711735b",
   "metadata": {},
   "source": [
    "### Connect/Login to IMAP server for Gmail"
   ]
  },
  {
   "cell_type": "code",
   "execution_count": null,
   "id": "03847f00-1eea-448d-a94d-17c3b0af285c",
   "metadata": {},
   "outputs": [],
   "source": [
    "def load_credentials(filepath):\n",
    "    try:\n",
    "        with open(filepath, 'r') as file:\n",
    "            credentials = yaml.safe_load(file)\n",
    "            user = credentials['user']\n",
    "            password = credentials['password']\n",
    "            return user, password\n",
    "    except Exception as e:\n",
    "        logging.error(\"Failed to load credentials: {}\".format(e))\n",
    "        raise"
   ]
  },
  {
   "cell_type": "code",
   "execution_count": null,
   "id": "ee809fcb-d18b-45da-9f6b-23176e89b5ad",
   "metadata": {},
   "outputs": [],
   "source": [
    "def connect_to_gmail_imap(user, password):\n",
    "    imap_url = 'imap.gmail.com'\n",
    "    # imap_url = \"outlook.office365.com\"\n",
    "    try:\n",
    "        mail = imaplib.IMAP4_SSL(imap_url)\n",
    "        mail.login(user, password)\n",
    "        mail.select('inbox')  # Connect to the inbox.\n",
    "        return mail\n",
    "    except Exception as e:\n",
    "        logging.error(\"Connection failed: {}\".format(e))\n",
    "        raise"
   ]
  },
  {
   "cell_type": "code",
   "execution_count": null,
   "id": "90002a4b-3b32-4432-8f77-bdbe92c47328",
   "metadata": {},
   "outputs": [],
   "source": [
    "credentials = load_credentials('cred.yaml')\n",
    "mail = connect_to_gmail_imap(*credentials)"
   ]
  },
  {
   "cell_type": "code",
   "execution_count": null,
   "id": "1580542a-2893-42b0-8bda-566f3e422329",
   "metadata": {},
   "outputs": [],
   "source": [
    "print(mail)"
   ]
  },
  {
   "cell_type": "code",
   "execution_count": null,
   "id": "d3f2d8ca-c506-4069-b8da-693b3ba808f4",
   "metadata": {},
   "outputs": [],
   "source": [
    "def decode_str(string):\n",
    "    decoded = email.header.decode_header(string)\n",
    "    return email.header.make_header(decoded)\n",
    "    #dh = decode_header(string)\n",
    "    #default_charset = 'ASCII'\n",
    "    #return ''.join([unicode(t[0], t[1] or default_charset) for t in dh ])"
   ]
  },
  {
   "cell_type": "code",
   "execution_count": null,
   "id": "928a181c-efa4-43fd-b26d-b7c7a4e1283b",
   "metadata": {},
   "outputs": [],
   "source": [
    "result, data = mail.search(None, \"ALL\")\n",
    "for num in data[0].split():\n",
    "    result, msg_data_1 = mail.fetch(num, \"(RFC822)\")\n",
    "    msg = email.message_from_bytes(msg_data_1[0][1], policy=default_policy)\n",
    "\n",
    "    subject = msg['subject']\n",
    "    result, msg_data = mail.fetch(num, \"(INTERNALDATE)\")\n",
    "    assert result == \"OK\"\n",
    "    assert len(msg_data) == 1, f\"msg_data is not of length 1: {msg_data}\"\n",
    "    arrival_time = imaplib.Internaldate2tuple(msg_data[0])\n",
    "    print(time.strftime(\"%a, %d %b %Y %H:%M:%S\", arrival_time))\n",
    "\n",
    "    from_email = msg['From']\n",
    "    print(\"Subject:\", subject, \"from\", from_email)\n",
    "    print(\"Content-Type \" , msg['Content-type'])"
   ]
  },
  {
   "cell_type": "markdown",
   "id": "384179ff-f1f8-46d8-b417-797d0d2c3e71",
   "metadata": {},
   "source": [
    "### Connect/Login to IMAP server for Outlook"
   ]
  },
  {
   "cell_type": "code",
   "execution_count": null,
   "id": "8aed1ce0-c6f0-4d8b-b0ba-4ffa4e338f87",
   "metadata": {},
   "outputs": [],
   "source": [
    "credentials = load_credentials('cred.yaml')\n",
    "mail = connect_to_gmail_imap(*credentials)"
   ]
  },
  {
   "cell_type": "code",
   "execution_count": null,
   "id": "3135ad02-4c6d-42a0-b7c3-498773bdf292",
   "metadata": {},
   "outputs": [],
   "source": [
    "status, messages = mail.select(\"INBOX\")\n",
    "# number of top emails to fetch\n",
    "N = 3\n",
    "# total number of emails\n",
    "messages = int(messages[0])\n",
    "print(messages)"
   ]
  },
  {
   "cell_type": "code",
   "execution_count": null,
   "id": "30689c96-f419-45a0-a1c2-5b14a9b292c6",
   "metadata": {},
   "outputs": [],
   "source": [
    "for i in range(messages, messages-N, -1):\n",
    "# for i in range(1, messages):\n",
    "    # fetch the email message by ID\n",
    "    res, msg = mail.fetch(str(i), \"(RFC822)\")\n",
    "    result, time_data = mail.fetch(str(i), \"(INTERNALDATE)\")\n",
    "    arrival_time = imaplib.Internaldate2tuple(time_data[0])\n",
    "    for response in msg:\n",
    "        if isinstance(response, tuple):\n",
    "            # parse a bytes email into a message object\n",
    "            msg = email.message_from_bytes(response[1])\n",
    "            # print(msg)\n",
    "            # decode the email subject\n",
    "            subject, encoding = decode_header(msg[\"Subject\"])[0]\n",
    "            if isinstance(subject, bytes):\n",
    "                # if it's a bytes, decode to str\n",
    "                subject = subject.decode(encoding)\n",
    "            \n",
    "            # decode email sender\n",
    "            From, encoding = decode_header(msg.get(\"From\"))[0]\n",
    "            if isinstance(From, bytes):\n",
    "                From = From.decode(encoding)\n",
    "            \n",
    "            print(\"Subject:\", subject)\n",
    "            print(\"From:\", From)\n",
    "            print(\"Arrival Time: \",time.strftime(\"%a, %d %b %Y %H:%M:%S\", arrival_time))\n",
    "\n",
    "            \n",
    "            # if the email message is multipart\n",
    "            if msg.is_multipart():\n",
    "                # iterate over email parts\n",
    "                for part in msg.walk():\n",
    "                    # extract content type of email\n",
    "                    content_type = part.get_content_type()\n",
    "                    content_disposition = str(part.get(\"Content-Disposition\"))\n",
    "                    try:\n",
    "                        # get the email body\n",
    "                        body = part.get_payload(decode=True).decode()\n",
    "                    except:\n",
    "                        pass\n",
    "                    if content_type == \"text/plain\" and \"attachment\" not in content_disposition:\n",
    "                        # print text/plain emails and skip attachments\n",
    "                        print(body)\n",
    "                    elif \"attachment\" in content_disposition:\n",
    "                        # download attachment\n",
    "                        filename = part.get_filename()\n",
    "                        if filename:\n",
    "                            folder_name = clean(subject)\n",
    "                            if not os.path.isdir(folder_name):\n",
    "                                # make a folder for this email (named after the subject)\n",
    "                                os.mkdir(folder_name)\n",
    "                            filepath = os.path.join(folder_name, filename)\n",
    "                            # download attachment and save it\n",
    "                            open(filepath, \"wb\").write(part.get_payload(decode=True))\n",
    "            else:\n",
    "                # extract content type of email\n",
    "                content_type = msg.get_content_type()\n",
    "                # get the email body\n",
    "                body = msg.get_payload(decode=True).decode()\n",
    "                if content_type == \"text/plain\":\n",
    "                    # print only text email parts\n",
    "                    print(body)\n",
    "            # if content_type == \"text/html\":\n",
    "            #     # if it's HTML, create a new HTML file and open it in browser\n",
    "            #     folder_name = clean(subject)\n",
    "            #     if not os.path.isdir(folder_name):\n",
    "            #         # make a folder for this email (named after the subject)\n",
    "            #         os.mkdir(folder_name)\n",
    "            #     filename = \"index.html\"\n",
    "            #     filepath = os.path.join(folder_name, filename)\n",
    "            #     # write the file\n",
    "            #     open(filepath, \"w\").write(body)\n",
    "            #     # open in the default browser\n",
    "            #     webbrowser.open(filepath)\n",
    "            print(\"=\"*100)\n",
    "# close the connection and logout\n",
    "mail.close()\n",
    "mail.logout()"
   ]
  },
  {
   "cell_type": "code",
   "execution_count": null,
   "id": "d0c6be12-bf19-4696-a673-a597a83a3fca",
   "metadata": {},
   "outputs": [],
   "source": []
  },
  {
   "cell_type": "code",
   "execution_count": null,
   "id": "1115dd06-79b6-422f-a7f8-84c6ae805232",
   "metadata": {},
   "outputs": [],
   "source": [
    "Content-Type  multipart/alternative; boundary=\"_----------=_173298325022621221\"\n",
    "['Delivered-To', 'Received', 'X-Google-Smtp-Source', 'X-Received', 'ARC-Seal', 'ARC-Message-Signature', 'ARC-Authentication-Results', 'Return-Path', 'Received', 'Received-SPF', 'Authentication-Results', 'DKIM-Signature', 'DKIM-Signature', 'Date', 'To', 'From', 'Subject', 'Message-Id', 'MIME-Version', 'Content-Type', 'Content-Transfer-Encoding', 'List-Unsubscribe', 'Feedback-Id', 'X-Fncid', 'X-Injtime', 'X-Traffic-Type', 'X-Mailer', 'List-Unsubscribe-Post']\n",
    "Sat, 30 Nov 2024 17:21:09\n",
    "Subject: You’ve made the right choice, tankups93! from Groww <noreply@groww.in>\n",
    "Content-Type  multipart/alternative; boundary=\"_----------=_173298366829200668\"\n",
    "['Delivered-To', 'Received', 'X-Google-Smtp-Source', 'X-Received', 'ARC-Seal', 'ARC-Message-Signature', 'ARC-Authentication-Results', 'Return-Path', 'Received', 'Received-SPF', 'Authentication-Results', 'DKIM-Signature', 'DKIM-Signature', 'Date', 'To', 'From', 'Subject', 'Message-Id', 'MIME-Version', 'Content-Type', 'Content-Transfer-Encoding', 'List-Unsubscribe', 'Feedback-Id', 'X-Fncid', 'X-Injtime', 'X-Traffic-Type', 'X-Mailer', 'List-Unsubscribe-Post']\n",
    "Sun, 01 Dec 2024 03:13:46"
   ]
  }
 ],
 "metadata": {
  "language_info": {
   "name": "python"
  }
 },
 "nbformat": 4,
 "nbformat_minor": 5
}
